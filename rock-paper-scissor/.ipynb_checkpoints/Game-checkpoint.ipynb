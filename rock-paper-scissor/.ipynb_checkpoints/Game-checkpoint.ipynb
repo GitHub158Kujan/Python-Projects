{
 "cells": [
  {
   "cell_type": "code",
   "execution_count": 12,
   "id": "4d255123-d603-4b1d-a407-0ea3a295c3f4",
   "metadata": {},
   "outputs": [
    {
     "name": "stdout",
     "output_type": "stream",
     "text": [
      "Rock Paper Scissor Game\n",
      "Rock - 1\n",
      "Paper - 2\n",
      "Scissor - 3\n",
      "Total Rounds are 10\n",
      "--------------------\n",
      "Round 1\n"
     ]
    },
    {
     "name": "stdin",
     "output_type": "stream",
     "text": [
      "Input your choice:  4\n"
     ]
    },
    {
     "name": "stdout",
     "output_type": "stream",
     "text": [
      "Wrong choice. Please choose 1, 2, or 3.\n",
      "--------------------\n",
      "Round 1\n"
     ]
    },
    {
     "name": "stdin",
     "output_type": "stream",
     "text": [
      "Input your choice:  3\n"
     ]
    },
    {
     "name": "stdout",
     "output_type": "stream",
     "text": [
      "Computer chose:  1\n",
      "You lose!\n",
      "--------------------\n",
      "Round 2\n"
     ]
    },
    {
     "name": "stdin",
     "output_type": "stream",
     "text": [
      "Input your choice:  1\n"
     ]
    },
    {
     "name": "stdout",
     "output_type": "stream",
     "text": [
      "Computer chose:  1\n",
      "Tie\n",
      "--------------------\n",
      "Round 3\n"
     ]
    },
    {
     "name": "stdin",
     "output_type": "stream",
     "text": [
      "Input your choice:  8\n"
     ]
    },
    {
     "name": "stdout",
     "output_type": "stream",
     "text": [
      "Wrong choice. Please choose 1, 2, or 3.\n",
      "--------------------\n",
      "Round 3\n"
     ]
    },
    {
     "name": "stdin",
     "output_type": "stream",
     "text": [
      "Input your choice:  2\n"
     ]
    },
    {
     "name": "stdout",
     "output_type": "stream",
     "text": [
      "Computer chose:  2\n",
      "Tie\n",
      "--------------------\n",
      "Total matches won: 0\n",
      "Total matches lost: 1\n",
      "Total matches tied: 2\n"
     ]
    }
   ],
   "source": [
    "import random as r\n",
    "print(\"Rock Paper Scissor Game\")\n",
    "print(\"Rock - 1\")\n",
    "print('Paper - 2')\n",
    "print('Scissor - 3')\n",
    "print('Total Rounds are 10')\n",
    "print(\"--------------------\")\n",
    "win = 0\n",
    "lose = 0\n",
    "tie = 0\n",
    "round_number = 1\n",
    "\n",
    "while round_number <= 10:\n",
    "    print(\"Round\", round_number)\n",
    "    num = int(input(\"Input your choice: \"))\n",
    "    rock = 1\n",
    "    paper = 2\n",
    "    scissor = 3\n",
    "    if num >3:\n",
    "        print(\"Wrong choice. Please choose 1, 2, or 3.\")\n",
    "        print(\"--------------------\")\n",
    "        continue \n",
    "\n",
    "    comp = r.randint(1, 3)\n",
    "    print(\"Computer chose: \", comp)\n",
    "\n",
    "    if (num == 1 and comp == 3) or (num == 2 and comp == 1) or (num == 3 and comp == 2):  \n",
    "        print(\"You won!\")\n",
    "        win += 1\n",
    "    elif num == comp:\n",
    "        print(\"Tie\")\n",
    "        tie += 1\n",
    "    else:\n",
    "        print(\"You lose!\")\n",
    "        lose += 1\n",
    "\n",
    "    print(\"--------------------\")\n",
    "    round_number += 1  \n",
    "\n",
    "print(\"Total matches won:\", win)\n",
    "print(\"Total matches lost:\", lose)\n",
    "print(\"Total matches tie:\", tie)\n"
   ]
  },
  {
   "cell_type": "code",
   "execution_count": null,
   "id": "12082ac4-cdbd-4324-91c1-edee441aa8f6",
   "metadata": {},
   "outputs": [],
   "source": []
  }
 ],
 "metadata": {
  "kernelspec": {
   "display_name": "Python 3 (ipykernel)",
   "language": "python",
   "name": "python3"
  },
  "language_info": {
   "codemirror_mode": {
    "name": "ipython",
    "version": 3
   },
   "file_extension": ".py",
   "mimetype": "text/x-python",
   "name": "python",
   "nbconvert_exporter": "python",
   "pygments_lexer": "ipython3",
   "version": "3.12.2"
  }
 },
 "nbformat": 4,
 "nbformat_minor": 5
}
